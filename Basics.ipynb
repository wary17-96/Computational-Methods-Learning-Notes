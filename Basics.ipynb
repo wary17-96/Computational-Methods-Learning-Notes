{
 "cells": [
  {
   "cell_type": "markdown",
   "metadata": {},
   "source": [
    "## 1.语句的类型\n",
    "### 1.1 Comments (批注)\n",
    "Comments are any text to the right of the `#` symbol and is mainly useful as notes for the reader of the program.<br>\n",
    "_**Code tells you how, comments should tell you why.**_"
   ]
  },
  {
   "cell_type": "code",
   "execution_count": null,
   "metadata": {},
   "outputs": [],
   "source": [
    "# This is a piece of comment\n",
    "# 这是一条批注\n",
    "print('hello world!')# # This is a piece of comment"
   ]
  },
  {
   "cell_type": "markdown",
   "metadata": {},
   "source": [
    "### 1.2 Literal Constants (常量)\n",
    "Always represents itself, nothing else.\n",
    "#### 1.2.1 Numbers (数值)\n",
    "##### 1.2.1.1 Integers (整数)"
   ]
  },
  {
   "cell_type": "code",
   "execution_count": null,
   "metadata": {
    "scrolled": false
   },
   "outputs": [],
   "source": [
    "123456"
   ]
  },
  {
   "cell_type": "markdown",
   "metadata": {},
   "source": [
    "##### 1.2.1.2 Floats (浮点数)\n",
    "(.....补充)"
   ]
  },
  {
   "cell_type": "code",
   "execution_count": null,
   "metadata": {
    "scrolled": true
   },
   "outputs": [],
   "source": [
    "52.3E-4"
   ]
  },
  {
   "cell_type": "markdown",
   "metadata": {},
   "source": [
    "#### 1.2.2 Strings (字符串)\n",
    "A bunch of words."
   ]
  },
  {
   "cell_type": "code",
   "execution_count": null,
   "metadata": {
    "scrolled": true
   },
   "outputs": [],
   "source": [
    "# Single Quote\n",
    "print('Learning Python make YH a dull boy.')\n"
   ]
  },
  {
   "cell_type": "code",
   "execution_count": null,
   "metadata": {},
   "outputs": [],
   "source": [
    "# Double Quotes\n",
    "print(\"Learning Python make YH a dull boy.\")"
   ]
  },
  {
   "cell_type": "code",
   "execution_count": null,
   "metadata": {},
   "outputs": [],
   "source": [
    "# Triple Quotes\n",
    "# You can specify multi-line strings using triple quotes - (\"\"\" or '''). \n",
    "# You can use single quotes and double quotes freely within the triple quotes. An example is:\n",
    "\n",
    "print(\n",
    "'''Jack asked Mary:\n",
    "\"How do you do?\"\n",
    "Mary answered:\n",
    "\"I lost my father's wallet...\"''')"
   ]
  },
  {
   "cell_type": "code",
   "execution_count": null,
   "metadata": {
    "scrolled": true
   },
   "outputs": [],
   "source": [
    "name_1 = 'Leiying'\n",
    "name_2 = 'big'\n",
    "name_3 = 'cat\\'s ass'\n",
    "\n",
    "print('{0} is my {1} face {0}.'.format(name_1,name_2,name_3))"
   ]
  },
  {
   "cell_type": "code",
   "execution_count": null,
   "metadata": {},
   "outputs": [],
   "source": [
    "num = 'nba is a\\nfff'\n",
    "print(num)"
   ]
  }
 ],
 "metadata": {
  "kernelspec": {
   "display_name": "Python 3",
   "language": "python",
   "name": "python3"
  },
  "language_info": {
   "codemirror_mode": {
    "name": "ipython",
    "version": 3
   },
   "file_extension": ".py",
   "mimetype": "text/x-python",
   "name": "python",
   "nbconvert_exporter": "python",
   "pygments_lexer": "ipython3",
   "version": "3.7.6"
  }
 },
 "nbformat": 4,
 "nbformat_minor": 4
}
